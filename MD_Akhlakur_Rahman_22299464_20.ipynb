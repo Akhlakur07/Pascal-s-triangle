{
  "nbformat": 4,
  "nbformat_minor": 0,
  "metadata": {
    "colab": {
      "provenance": []
    },
    "kernelspec": {
      "name": "python3",
      "display_name": "Python 3"
    },
    "language_info": {
      "name": "python"
    }
  },
  "cells": [
    {
      "cell_type": "markdown",
      "source": [
        "# Task 1"
      ],
      "metadata": {
        "id": "rj3POxNkpaNp"
      }
    },
    {
      "cell_type": "code",
      "source": [
        "def pascal(n,r):\n",
        "    if n<r:\n",
        "        return 0\n",
        "    if n==r or r==0:\n",
        "        return 1\n",
        "\n",
        "    return pascal(n-1,r) + pascal(n-1,r-1)\n",
        "\n",
        "n=int(input(\"n: \"))\n",
        "r=int(input(\"r: \"))\n",
        "\n",
        "print(pascal(n,r))"
      ],
      "metadata": {
        "colab": {
          "base_uri": "https://localhost:8080/"
        },
        "id": "tIYjVNssjgPu",
        "outputId": "153c1d00-8d7b-4ea3-ea4c-d3b808f244b3"
      },
      "execution_count": 8,
      "outputs": [
        {
          "output_type": "stream",
          "name": "stdout",
          "text": [
            "n: 10\n",
            "r: 1\n",
            "10\n"
          ]
        }
      ]
    },
    {
      "cell_type": "markdown",
      "source": [
        "#Task 2"
      ],
      "metadata": {
        "id": "BbkMpECQf6IY"
      }
    },
    {
      "cell_type": "code",
      "source": [
        "def pascal(n,r):\n",
        "    if n<r:\n",
        "        return 0\n",
        "    if n==r or r==0:\n",
        "        return 1\n",
        "\n",
        "    return pascal(n-1,r) + pascal(n-1,r-1)\n",
        "\n",
        "\n",
        "n = int(input())\n",
        "li=[]\n",
        "\n",
        "for i in range(n+2):\n",
        "    l=[]\n",
        "    for j in range(i+1):\n",
        "        l+= [pascal(i,j)]\n",
        "    li+=[l]\n",
        "    \n",
        "main_li=[]\n",
        "main_count = 0\n",
        "space = 8\n",
        "ind= len(li)-1\n",
        "\n",
        "for k in range(len(li)):\n",
        "    st = \"\"\n",
        "    count = 0\n",
        "    for v in li[ind]:\n",
        "        if count==0:\n",
        "            st+= ((space//2)*main_count)*\" \" + str(v)\n",
        "        else:\n",
        "            st += (space - len(str(v)))*\" \" + str(v)\n",
        "        count+=1\n",
        "    ind-=1\n",
        "    main_count+=1\n",
        "    main_li += [st]\n",
        "\n",
        "index = len(main_li)-1\n",
        "for x in range(len(main_li)):\n",
        "    print(main_li[index])\n",
        "    index-=1"
      ],
      "metadata": {
        "colab": {
          "base_uri": "https://localhost:8080/"
        },
        "id": "F9_cwYDt3Hn0",
        "outputId": "7eba5b48-2af4-4a67-f4c5-2c2c54857722"
      },
      "execution_count": 10,
      "outputs": [
        {
          "output_type": "stream",
          "name": "stdout",
          "text": [
            "5\n",
            "                        1\n",
            "                    1       1\n",
            "                1       2       1\n",
            "            1       3       3       1\n",
            "        1       4       6       4       1\n",
            "    1       5      10      10       5       1\n",
            "1       6      15      20      15       6       1\n"
          ]
        }
      ]
    },
    {
      "cell_type": "markdown",
      "source": [
        "#Task 3"
      ],
      "metadata": {
        "id": "dezNBo9XO6hF"
      }
    },
    {
      "cell_type": "code",
      "source": [
        "def pascal(n,r):\n",
        "    if n<r:\n",
        "        return 0\n",
        "    if n==r or r==0:\n",
        "        return 1\n",
        "\n",
        "    return pascal(n-1,r) + pascal(n-1,r-1)\n",
        "\n",
        "n=int(input(\"n: \"))\n",
        "\n",
        "li=[]\n",
        "\n",
        "for i in range(n+1):\n",
        "    l=[]\n",
        "    for j in range(i+1):\n",
        "        l+= [f\"{i}C{j}\"]\n",
        "    li+=[l]\n",
        "\n",
        "def fact(n):\n",
        "  if n==1:\n",
        "    return 1\n",
        "  return n*fact(n-1)\n",
        "\n",
        "def ncr(n,r):\n",
        "    if n==r:\n",
        "        return 1\n",
        "    return fact(n)/(fact(n-r)*fact(r))\n",
        "\n",
        "r=int(input(\"r: \"))\n",
        "com = ncr(n,r)\n",
        "\n",
        "print(f\"LHS = {int(com)}\")\n",
        "print(f\"RHS = {n}C{r}\")\n",
        "\n",
        "print(\"Now by using Hockey-stick Identity,\")\n",
        "\n",
        "rhs = str(n)+\"C\"+str(r)+\" = \"\n",
        "print(rhs, end=\"\")\n",
        "\n",
        "hockey = \"\"\n",
        "\n",
        "\n",
        "count = r-1\n",
        "for k in range(len(li)-r):\n",
        "    st = li[count][r-1]\n",
        "    hockey += st+\" + \"\n",
        "    count += 1\n",
        "final_hoc = hockey[:len(hockey)-3:]\n",
        "print(final_hoc)\n",
        "print(\"Here,\")\n",
        "hoc = final_hoc.split(\" + \")\n",
        "\n",
        "sum = 0\n",
        "for v in hoc:\n",
        "    print(v+\" = \", end=\"\")\n",
        "    nr = v.split(\"C\")\n",
        "    summ = pascal(int(nr[0]),int(nr[1]))\n",
        "    print(summ)\n",
        "    sum += summ\n",
        "print(\"Now sum of all these = \", sum)\n",
        "print(\"Which is equal to LHS\")"
      ],
      "metadata": {
        "colab": {
          "base_uri": "https://localhost:8080/"
        },
        "id": "RdmY4rUm8U5C",
        "outputId": "52dd928f-f67c-4835-f5c9-61680a054db3"
      },
      "execution_count": 11,
      "outputs": [
        {
          "output_type": "stream",
          "name": "stdout",
          "text": [
            "n: 6\n",
            "r: 3\n",
            "LHS = 20\n",
            "RHS = 6C3\n",
            "Now by using Hockey-stick Identity,\n",
            "6C3 = 2C2 + 3C2 + 4C2 + 5C2\n",
            "Here,\n",
            "2C2 = 1\n",
            "3C2 = 3\n",
            "4C2 = 6\n",
            "5C2 = 10\n",
            "Now sum of all these =  20\n",
            "Which is equal to LHS\n"
          ]
        }
      ]
    }
  ]
}